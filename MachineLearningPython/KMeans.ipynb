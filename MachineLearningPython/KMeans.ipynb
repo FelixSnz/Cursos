{
  "nbformat": 4,
  "nbformat_minor": 0,
  "metadata": {
    "colab": {
      "name": "KMeans.ipynb",
      "provenance": [],
      "collapsed_sections": [],
      "authorship_tag": "ABX9TyMwoJXEkncjGzOB1fl4u6hT",
      "include_colab_link": true
    },
    "kernelspec": {
      "name": "python3",
      "display_name": "Python 3"
    }
  },
  "cells": [
    {
      "cell_type": "markdown",
      "metadata": {
        "id": "view-in-github",
        "colab_type": "text"
      },
      "source": [
        "<a href=\"https://colab.research.google.com/github/FelixSnz/Cursos/blob/main/MachineLearningPython/KMeans.ipynb\" target=\"_parent\"><img src=\"https://colab.research.google.com/assets/colab-badge.svg\" alt=\"Open In Colab\"/></a>"
      ]
    },
    {
      "cell_type": "code",
      "metadata": {
        "id": "5NlrbY-mfGAz"
      },
      "source": [
        "import numpy as np\r\n",
        "import sklearn\r\n",
        "from sklearn.preprocessing import scale\r\n",
        "from sklearn.datasets import load_digits\r\n",
        "from sklearn.cluster import KMeans\r\n",
        "from sklearn import metrics"
      ],
      "execution_count": null,
      "outputs": []
    },
    {
      "cell_type": "code",
      "metadata": {
        "id": "zyxGoFvVl30O"
      },
      "source": [
        "digits = load_digits()\r\n",
        "data = scale(digits.data)\r\n",
        "y = digits.target\r\n",
        "k = 10"
      ],
      "execution_count": null,
      "outputs": []
    },
    {
      "cell_type": "code",
      "metadata": {
        "id": "vDpAHF7U6xaQ"
      },
      "source": [
        "def bench_k_means(estimator, name, data):\r\n",
        "    estimator.fit(data)\r\n",
        "    print('%-9s\\t%i\\t%.3f\\t%.3f\\t%.3f\\t%.3f\\t%.3f\\t%.3f'\r\n",
        "          % (name, estimator.inertia_,\r\n",
        "             metrics.homogeneity_score(y, estimator.labels_),\r\n",
        "             metrics.completeness_score(y, estimator.labels_),\r\n",
        "             metrics.v_measure_score(y, estimator.labels_),\r\n",
        "             metrics.adjusted_rand_score(y, estimator.labels_),\r\n",
        "             metrics.adjusted_mutual_info_score(y,  estimator.labels_),\r\n",
        "             metrics.silhouette_score(data, estimator.labels_,\r\n",
        "                                      metric='euclidean')))"
      ],
      "execution_count": null,
      "outputs": []
    },
    {
      "cell_type": "code",
      "metadata": {
        "colab": {
          "base_uri": "https://localhost:8080/"
        },
        "id": "gIxqaaCm7eAX",
        "outputId": "3ae693be-4370-4534-b20d-901f3a17c7a7"
      },
      "source": [
        "clf = KMeans(n_clusters=k, init=\"random\", n_init=10)\r\n",
        "bench_k_means(clf, \"a\", data)"
      ],
      "execution_count": null,
      "outputs": [
        {
          "output_type": "stream",
          "text": [
            "a        \t69689\t0.677\t0.717\t0.696\t0.563\t0.693\t0.145\n"
          ],
          "name": "stdout"
        }
      ]
    }
  ]
}