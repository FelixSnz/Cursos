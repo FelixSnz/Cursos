{
  "nbformat": 4,
  "nbformat_minor": 0,
  "metadata": {
    "colab": {
      "name": "SVM.ipynb",
      "provenance": [],
      "collapsed_sections": [],
      "authorship_tag": "ABX9TyPGgZ+ZPudR1knXN3NncnPI",
      "include_colab_link": true
    },
    "kernelspec": {
      "name": "python3",
      "display_name": "Python 3"
    }
  },
  "cells": [
    {
      "cell_type": "markdown",
      "metadata": {
        "id": "view-in-github",
        "colab_type": "text"
      },
      "source": [
        "<a href=\"https://colab.research.google.com/github/FelixSnz/Cursos/blob/main/MachineLearningPython/SVM.ipynb\" target=\"_parent\"><img src=\"https://colab.research.google.com/assets/colab-badge.svg\" alt=\"Open In Colab\"/></a>"
      ]
    },
    {
      "cell_type": "code",
      "metadata": {
        "colab": {
          "base_uri": "https://localhost:8080/"
        },
        "id": "FsM9O6jsSBml",
        "outputId": "53816761-e050-4662-a51f-a001d6cbd287"
      },
      "source": [
        "import sklearn\r\n",
        "from sklearn import datasets\r\n",
        "from sklearn import svm\r\n",
        "from sklearn import metrics\r\n",
        "from sklearn.neighbors import KNeighborsClassifier\r\n",
        "\r\n",
        "cancer = datasets.load_breast_cancer()\r\n",
        "\r\n",
        "#print(cancer.feature_names)\r\n",
        "#print(cancer.target_names)\r\n",
        "\r\n",
        "x = cancer.data\r\n",
        "y = cancer.target\r\n",
        "\r\n",
        "x_train, x_test, y_train, y_test = sklearn.model_selection.train_test_split(x, y, test_size=0.2)\r\n",
        "\r\n",
        "\r\n",
        "clf = svm.SVC(kernel=\"linear\")\r\n",
        "clf.fit(x_train, y_train)\r\n",
        "\r\n",
        "y_pred = clf.predict(x_test)\r\n",
        "\r\n",
        "acc = metrics.accuracy_score(y_test, y_pred)\r\n",
        "\r\n",
        "print(acc)"
      ],
      "execution_count": 1,
      "outputs": [
        {
          "output_type": "stream",
          "text": [
            "0.9473684210526315\n"
          ],
          "name": "stdout"
        }
      ]
    }
  ]
}