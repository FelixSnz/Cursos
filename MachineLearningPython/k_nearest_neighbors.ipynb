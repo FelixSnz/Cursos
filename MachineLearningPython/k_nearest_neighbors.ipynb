{
  "nbformat": 4,
  "nbformat_minor": 0,
  "metadata": {
    "colab": {
      "name": "k-nearest neighbors.ipynb",
      "provenance": [],
      "collapsed_sections": [],
      "authorship_tag": "ABX9TyOQKzTdgKd6PbDZHnMNnpF0",
      "include_colab_link": true
    },
    "kernelspec": {
      "name": "python3",
      "display_name": "Python 3"
    }
  },
  "cells": [
    {
      "cell_type": "markdown",
      "metadata": {
        "id": "view-in-github",
        "colab_type": "text"
      },
      "source": [
        "<a href=\"https://colab.research.google.com/github/FelixSnz/Cursos/blob/main/MachineLearningPython/k_nearest_neighbors.ipynb\" target=\"_parent\"><img src=\"https://colab.research.google.com/assets/colab-badge.svg\" alt=\"Open In Colab\"/></a>"
      ]
    },
    {
      "cell_type": "code",
      "metadata": {
        "id": "QyUUo7o600pE"
      },
      "source": [
        "#Importación de librerias necesarias\r\n",
        "import numpy as np\r\n",
        "import pandas as pd\r\n",
        "import matplotlib.pyplot as plt\r\n",
        "import seaborn as sns\r\n",
        "from matplotlib.colors import ListedColormap\r\n",
        "from sklearn.neighbors import KNeighborsClassifier\r\n",
        "import sklearn"
      ],
      "execution_count": null,
      "outputs": []
    },
    {
      "cell_type": "code",
      "metadata": {
        "id": "RSRK7KR249JB"
      },
      "source": [
        "#importacion de datos externos\r\n",
        "data = pd.read_csv(\"iris.data\")\r\n",
        "\r\n",
        "#Creación codificador para posteriormente codificar \r\n",
        "encoder = sklearn.preprocessing.LabelEncoder()\r\n",
        "\r\n",
        "#registro de los nombres de las clases y atributos\r\n",
        "classes = np.array(['setosa','versicolor','virginica'])\r\n",
        "features = ['sepal length', 'sepal width', 'petal length', 'petal width']"
      ],
      "execution_count": null,
      "outputs": []
    },
    {
      "cell_type": "code",
      "metadata": {
        "id": "-mTQ6wMb5ANV"
      },
      "source": [
        "#Extracción de dos atributos al arreglo X\r\n",
        "X = np.array(data[['sl','sw']])\r\n",
        "\r\n",
        "#codificacion del las clases en formato texto a númerico\r\n",
        "y = encoder.fit_transform(data['class'])\r\n",
        "\r\n",
        "#creacion de arreglos de entrenamiento y testeo\r\n",
        "x_train, x_test, y_train, y_test = sklearn.model_selection.train_test_split(X, y, test_size = 0.1)"
      ],
      "execution_count": null,
      "outputs": []
    },
    {
      "cell_type": "code",
      "metadata": {
        "id": "2qWbBMuV5CKc",
        "colab": {
          "base_uri": "https://localhost:8080/"
        },
        "outputId": "e10975d4-8e46-4a85-9276-cb506a292b7d"
      },
      "source": [
        "n_neighbors = 15 #hiperparametro K\r\n",
        "\r\n",
        "#creación, entrenamiento y evaluación del modelo\r\n",
        "model = KNeighborsClassifier(n_neighbors)\r\n",
        "model.fit(x_train, y_train)\r\n",
        "acc = model.score(x_test, y_test)\r\n",
        "print('acc: ', acc)\r\n",
        "predicted = model.predict(x_test)\r\n",
        "\r\n",
        "#imprimir las comparaciones entre las clases reales y las predicciones\r\n",
        "for x in range(len(predicted)):\r\n",
        "    print(\"Predicted: \", classes[predicted[x]], ' | ', \"Actual: \", classes[y_test[x]])\r\n"
      ],
      "execution_count": null,
      "outputs": [
        {
          "output_type": "stream",
          "text": [
            "acc:  0.6666666666666666\n",
            "Predicted:  setosa  |  Actual:  setosa\n",
            "Predicted:  versicolor  |  Actual:  versicolor\n",
            "Predicted:  virginica  |  Actual:  versicolor\n",
            "Predicted:  versicolor  |  Actual:  virginica\n",
            "Predicted:  setosa  |  Actual:  setosa\n",
            "Predicted:  virginica  |  Actual:  virginica\n",
            "Predicted:  setosa  |  Actual:  setosa\n",
            "Predicted:  virginica  |  Actual:  virginica\n",
            "Predicted:  versicolor  |  Actual:  virginica\n",
            "Predicted:  setosa  |  Actual:  setosa\n",
            "Predicted:  setosa  |  Actual:  setosa\n",
            "Predicted:  setosa  |  Actual:  setosa\n",
            "Predicted:  setosa  |  Actual:  setosa\n",
            "Predicted:  versicolor  |  Actual:  virginica\n",
            "Predicted:  virginica  |  Actual:  versicolor\n"
          ],
          "name": "stdout"
        }
      ]
    },
    {
      "cell_type": "code",
      "metadata": {
        "id": "42dpLn3V5FG9"
      },
      "source": [
        "#Creacion de los valores limites de acuerdo a los ejes X Y\r\n",
        "x_min, x_max = X[:, 0].min() - 1, X[:, 0].max() + 1\r\n",
        "y_min, y_max = X[:, 1].min() - 1, X[:, 1].max() + 1\r\n",
        "\r\n",
        "ss = .1  # separación entre cada combinación de cordenadas\r\n",
        "\r\n",
        "#arreglos que describirán la cuadricula de acuerdo a los ejes X Y\r\n",
        "xx, yy = np.meshgrid(np.arange(x_min, x_max, ss), np.arange(y_min, y_max, ss))\r\n",
        "\r\n",
        "#arreglo que contiene la clase asignada a cada combinacion de cordenadas al relacionar xx y yy\r\n",
        "Z = model.predict(np.c_[xx.ravel(), yy.ravel()])\r\n",
        "\r\n",
        "# mapas de colores a usar en la gráfica\r\n",
        "cmap_train = ['yellow', 'springgreen', 'cyan']\r\n",
        "cmap_predictions = ListedColormap(cmap_train)\r\n",
        "cmap_test = ['darkorange', 'darkgreen', 'blue']\r\n",
        "\r\n",
        "#se cambia la forma del arreglo Z para ser compatible a la hora de gráficar\r\n",
        "Z = Z.reshape(xx.shape)\r\n",
        "\r\n",
        "#personalización del tamaño de la figura a gráficar\r\n",
        "plt.figure(figsize=(8, 6))\r\n",
        "\r\n",
        "#coloreo del fondo de la gráfica de acuerdo a las clases\r\n",
        "plt.contourf(xx, yy, Z, cmap=cmap_predictions)\r\n",
        "\r\n",
        "# plasmar los datos de entrenamiento\r\n",
        "ax = sns.scatterplot(x=x_train[:, 0], y=x_train[:, 1], hue=classes[y_train], hue_order=classes,\r\n",
        "                palette=cmap_train, edgecolor=\"black\")\r\n",
        "\r\n",
        "# Plasmar os datos de testeo \r\n",
        "sns.scatterplot(x=x_test[:, 0], y=x_test[:, 1], hue=classes[y_test], hue_order=classes,\r\n",
        "                palette=cmap_test, edgecolor=\"black\", legend=False)\r\n",
        "\r\n",
        "#titulo para la \"leyenda\" que nombra las clases de acuerdo a los colores\r\n",
        "ax.legend(title='Classes')\r\n",
        "\r\n",
        "#plasmar la gráfica asignando los limites y etiquetas de los ejes\r\n",
        "plt.xlim(xx.min(), xx.max())\r\n",
        "plt.ylim(yy.min(), yy.max())\r\n",
        "plt.title(\"3-Class classification (k = %i)\" % (n_neighbors))\r\n",
        "plt.xlabel(features[0])\r\n",
        "plt.ylabel(features[1])\r\n",
        "plt.show()"
      ],
      "execution_count": null,
      "outputs": []
    }
  ]
}